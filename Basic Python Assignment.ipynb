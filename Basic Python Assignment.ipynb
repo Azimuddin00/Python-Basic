{
  "nbformat": 4,
  "nbformat_minor": 0,
  "metadata": {
    "colab": {
      "provenance": []
    },
    "kernelspec": {
      "name": "python3",
      "display_name": "Python 3"
    },
    "language_info": {
      "name": "python"
    }
  },
  "cells": [
    {
      "cell_type": "markdown",
      "source": [
        "# 1. Basic Python Assignment"
      ],
      "metadata": {
        "id": "D0AoZ14RJguz"
      }
    },
    {
      "cell_type": "markdown",
      "source": [
        "1. What is Python, and why is it popular?\n",
        "\n",
        "   **Ans>>** Python is a high level, general purpose, interpreted programming language. It was developed by Guido van Rossum in 1991. It is used for web development, software development, mathematic calculation, big data manipulation, system scription etc. python also can work different platform like Windows, Mac, Linux etc.\n",
        "\n",
        "  **Why is it popular** -\n",
        "\n",
        "  1. It is easy to learn and read.\n",
        "  2. huge cummunity and support.\n",
        "  3. Extensive libraries and framework - (Tensorflow, PyTorch, Pandas, Skit-learn etc.)\n",
        "  4. Platform Independence.\n",
        "  5. Open source language.\n",
        "  6. Python is in high demand in the job market, making it a valuable skill for developers and data scientists.\n"
      ],
      "metadata": {
        "id": "IB2UA9WkJdGE"
      }
    },
    {
      "cell_type": "markdown",
      "source": [
        "2. What is an interpreter in Python?\n",
        "\n",
        "   **Ans>>**  An interpreter in python is a program that reads and execute the python code line by line. The python interpreter process that code one line at a time and translate into machine level instructions that your computer can understand and run."
      ],
      "metadata": {
        "id": "8adov5J5RmAa"
      }
    },
    {
      "cell_type": "markdown",
      "source": [
        "3. What are pre-defined keywords in Python?\n",
        "\n",
        "   **Ans>>**  Pre-definedi keyworids are special keyword in python that are built into the language. They have specific meaning and uses in python, These keywords can not be used as a variable names or functions name. These are the case sensitive and they have specific meaning and can not be altered.\n",
        "\n",
        "   Python has almost 35 pre-defined keywords\n",
        "   \n",
        "   Ex -  if, else, elif, for, while, break, continue, import, True, False, def, is, in, class etc."
      ],
      "metadata": {
        "id": "hVbm1IBeSz7Z"
      }
    },
    {
      "cell_type": "markdown",
      "source": [
        "4.  Can keywords be used as variable names?\n",
        "\n",
        "    **Ans>>** You can not use the keywords as a variable names in python. They are reserved by the language because they have special meanings. If you use keyword it will through you an error.\n",
        "    \n",
        "    Examples are below -"
      ],
      "metadata": {
        "id": "-G3JKlC-VbvQ"
      }
    },
    {
      "cell_type": "code",
      "source": [
        "if = 2.5\n",
        "in = \"India\""
      ],
      "metadata": {
        "colab": {
          "base_uri": "https://localhost:8080/",
          "height": 106
        },
        "id": "mUTbbpZGPBY5",
        "outputId": "6b4ef621-b8c7-428d-f9e1-f02b67d91b65"
      },
      "execution_count": null,
      "outputs": [
        {
          "output_type": "error",
          "ename": "SyntaxError",
          "evalue": "invalid syntax (<ipython-input-1-73f3a9a2c013>, line 1)",
          "traceback": [
            "\u001b[0;36m  File \u001b[0;32m\"<ipython-input-1-73f3a9a2c013>\"\u001b[0;36m, line \u001b[0;32m1\u001b[0m\n\u001b[0;31m    if = 2.5\u001b[0m\n\u001b[0m       ^\u001b[0m\n\u001b[0;31mSyntaxError\u001b[0m\u001b[0;31m:\u001b[0m invalid syntax\n"
          ]
        }
      ]
    },
    {
      "cell_type": "markdown",
      "source": [
        "5. What is mutability in Python?\n",
        "\n",
        "  **Ans>>** Mutability refers to whether an objects value can be changed after it is created. You can alters the objects data directly without creating a new object.\n",
        "\n",
        "  Ex - list, set, dict etc.\n",
        "\n",
        "  Example is below-"
      ],
      "metadata": {
        "id": "fW5JECZnXeCY"
      }
    },
    {
      "cell_type": "code",
      "source": [
        "a = [\"India\", \"Pakistan\", \"Nepal\"]\n",
        "print(a)\n",
        "a[1] = \"China\"  #Modify the element\n",
        "print(\"Updated list:\", a)\n",
        "\n",
        "# add a new element\n",
        "a.append(\"America\")\n",
        "print(\"Added New Element:\", a)\n",
        "\n",
        "# remove an element\n",
        "a.remove(\"Nepal\")\n",
        "print(\"Removed Elements 'Nepal' \", a)"
      ],
      "metadata": {
        "colab": {
          "base_uri": "https://localhost:8080/"
        },
        "id": "JczGa_HYXC8U",
        "outputId": "f978737b-bdb0-4ddf-df05-653c2205f752"
      },
      "execution_count": null,
      "outputs": [
        {
          "output_type": "stream",
          "name": "stdout",
          "text": [
            "['India', 'Pakistan', 'Nepal']\n",
            "Updated list: ['India', 'China', 'Nepal']\n",
            "Added New Element: ['India', 'China', 'Nepal', 'America']\n",
            "Removed Elements 'Nepal'  ['India', 'China', 'America']\n"
          ]
        }
      ]
    },
    {
      "cell_type": "markdown",
      "source": [
        "6. Why are lists mutable, but tuples are immutable?\n",
        "\n",
        "  **Ans>>** In Python, lists are mutable while tuples are immutable due to their intended use and how they are implemented.\n",
        "\n",
        "  **Lists** are mutable because they are designed to be flexible containers. Their internal structure allows items to be added, removed, or updated without needing to create a new list each time. This supports efficient in-place modification, which is useful when working with data that changes frequently.\n",
        "\n",
        "  **Tuple**s on the other hand, are immutable because they are meant to be fixed, stable sequences. Once created, their contents cannot be altered, making them safer and more predictable to use.\n",
        "\n",
        "  **Difference between lists and tuples**\n",
        "\n",
        "  1. List slightly slower due to dynamic behavior and tuples are faster and more efficient due to its fized size.\n",
        "\n",
        "  2. You can not use lists as a dictionary keys but in tuples you can be used it as a dictionary keys.\n",
        "\n",
        "  3. **Syntax**\n",
        "\n",
        "     For list -     a = [\"History\", \"Math\", \"Science\"]\n",
        "\n",
        "     For tuple -    b = (\"India\", \"Nepal\", \"China\")\n",
        "\n",
        "     (In the above example we see how the lists are mutable.)\n",
        "     \n",
        "     (Tuples example is below.)"
      ],
      "metadata": {
        "id": "kWpts6xQeHCT"
      }
    },
    {
      "cell_type": "code",
      "source": [
        "a = (1, 4, \"Apple\")\n",
        "print(a)\n",
        "a[0] = 6  # it will through an error\n",
        "print(a)\n"
      ],
      "metadata": {
        "id": "vEszv33wdFm4",
        "colab": {
          "base_uri": "https://localhost:8080/",
          "height": 211
        },
        "outputId": "cba38234-0d91-4d25-ea01-75ae9224df43"
      },
      "execution_count": null,
      "outputs": [
        {
          "output_type": "stream",
          "name": "stdout",
          "text": [
            "(1, 4, 'Apple')\n"
          ]
        },
        {
          "output_type": "error",
          "ename": "TypeError",
          "evalue": "'tuple' object does not support item assignment",
          "traceback": [
            "\u001b[0;31m---------------------------------------------------------------------------\u001b[0m",
            "\u001b[0;31mTypeError\u001b[0m                                 Traceback (most recent call last)",
            "\u001b[0;32m<ipython-input-1-f8847353d750>\u001b[0m in \u001b[0;36m<cell line: 0>\u001b[0;34m()\u001b[0m\n\u001b[1;32m      1\u001b[0m \u001b[0ma\u001b[0m \u001b[0;34m=\u001b[0m \u001b[0;34m(\u001b[0m\u001b[0;36m1\u001b[0m\u001b[0;34m,\u001b[0m \u001b[0;36m4\u001b[0m\u001b[0;34m,\u001b[0m \u001b[0;34m\"Apple\"\u001b[0m\u001b[0;34m)\u001b[0m\u001b[0;34m\u001b[0m\u001b[0;34m\u001b[0m\u001b[0m\n\u001b[1;32m      2\u001b[0m \u001b[0mprint\u001b[0m\u001b[0;34m(\u001b[0m\u001b[0ma\u001b[0m\u001b[0;34m)\u001b[0m\u001b[0;34m\u001b[0m\u001b[0;34m\u001b[0m\u001b[0m\n\u001b[0;32m----> 3\u001b[0;31m \u001b[0ma\u001b[0m\u001b[0;34m[\u001b[0m\u001b[0;36m0\u001b[0m\u001b[0;34m]\u001b[0m \u001b[0;34m=\u001b[0m \u001b[0;36m6\u001b[0m\u001b[0;34m\u001b[0m\u001b[0;34m\u001b[0m\u001b[0m\n\u001b[0m\u001b[1;32m      4\u001b[0m \u001b[0mprint\u001b[0m\u001b[0;34m(\u001b[0m\u001b[0ma\u001b[0m\u001b[0;34m)\u001b[0m\u001b[0;34m\u001b[0m\u001b[0;34m\u001b[0m\u001b[0m\n",
            "\u001b[0;31mTypeError\u001b[0m: 'tuple' object does not support item assignment"
          ]
        }
      ]
    },
    {
      "cell_type": "markdown",
      "source": [
        "7. What is the difference between “==” and “is” operators in Python?\n",
        "\n",
        "   **Ans>>**\n",
        "\n",
        "  ** \"==\" (Equality Operator)**-\n",
        "\n",
        "  \"==\" equality operator check if two values are equal or not.\n",
        "\n",
        "   it compares the content of the object.\n",
        "\n",
        "  ** \"is\" (Identity Operator) - **\n",
        "\n",
        "  This operator check the two variable point to the same object in memory.\n",
        "\n",
        "  It compare the object identity not the values.\n"
      ],
      "metadata": {
        "id": "nRFSohAIEdKy"
      }
    },
    {
      "cell_type": "code",
      "source": [
        "# example of \"is\" identity operator\n",
        "a = [1, 3, \"India\", 40.5]\n",
        "b = a\n",
        "print(a is b)"
      ],
      "metadata": {
        "colab": {
          "base_uri": "https://localhost:8080/"
        },
        "id": "Flh4jpXNGKwM",
        "outputId": "f99d279a-83d3-42ae-889c-a7afd4dd7320"
      },
      "execution_count": null,
      "outputs": [
        {
          "output_type": "stream",
          "name": "stdout",
          "text": [
            "True\n"
          ]
        }
      ]
    },
    {
      "cell_type": "code",
      "source": [
        "# example of \"==\" operator\n",
        "\n",
        "a = 10\n",
        "b = 10\n",
        "if a == b:\n",
        "  print(\"Numbers are same :\", a)"
      ],
      "metadata": {
        "colab": {
          "base_uri": "https://localhost:8080/"
        },
        "id": "ZkBOLDjlHJhk",
        "outputId": "d6264f0b-ce4d-44ab-d349-ea280c2e9e01"
      },
      "execution_count": null,
      "outputs": [
        {
          "output_type": "stream",
          "name": "stdout",
          "text": [
            "Numbers are same 10\n"
          ]
        }
      ]
    },
    {
      "cell_type": "markdown",
      "source": [
        "8. What are logical operators in Python?\n",
        "\n",
        "  **Ans>>**   In Python, logical operators are used to combine conditional statements and return Boolean values (True or False).\n",
        "\n",
        "  There are 3 logical operator in python-\n",
        "  \n",
        "  - **and >>** It willl returns true if both statements are true.\n",
        "\n",
        "     Ex - True and True = True\n",
        "\n",
        "  - **or >>** It will return true if at least one statements is true.\n",
        "\n",
        "     Ex - True or False = True\n",
        "\n",
        "  - **not >>** It's reverse the result, returns false if the result is true.\n",
        "\n",
        "     Ex - not True = False\n",
        "    "
      ],
      "metadata": {
        "id": "OS-7E0AnS9Kw"
      }
    },
    {
      "cell_type": "code",
      "source": [
        "# Example of \"and\" Operator\n",
        "\n",
        "a = 10\n",
        "b = 20\n",
        "c = 30\n",
        "print(\"This is the example of the 'and' Operator \\n(True and True)\")\n",
        "print(a<b and b<c)\n",
        "\n",
        "\n",
        "# Example of \"or\" Operator\n",
        "print(\"This the Example of 'or' Operator \\n (False or True)\")\n",
        "print(a>b or b<c)\n",
        "\n",
        "# Example of \"not\" operator\n",
        "print(\"This is the example of 'not' Operator \\n (True)\")\n",
        "print (not(a<b))"
      ],
      "metadata": {
        "colab": {
          "base_uri": "https://localhost:8080/"
        },
        "id": "9eeA2MVpSols",
        "outputId": "bd6eecf1-c65f-4fc0-f875-376dcf600097"
      },
      "execution_count": null,
      "outputs": [
        {
          "output_type": "stream",
          "name": "stdout",
          "text": [
            "This is the example of the 'and' Operator \n",
            "(True and True)\n",
            "True\n",
            "This the Example of 'or' Operator \n",
            " (False or True)\n",
            "True\n",
            "This is the example of 'not' Operator \n",
            " (True)\n",
            "False\n"
          ]
        }
      ]
    },
    {
      "cell_type": "markdown",
      "source": [
        "9. What is type casting in Python?\n",
        "\n",
        "   **Ans>>** Type casting is a method in python that converts one data type into others. It is also known as type conversion.\n",
        "\n",
        "   Type of Casting in python -\n",
        "\n",
        "   There are two types of data casting present in python.\n",
        "\n",
        "   1. Implicit -\n",
        "\n",
        "      - In this method, python automatically converts the data type into other.\n",
        "\n",
        "      - Python usually converts to a higher data type to avoid loss data.\n",
        "\n",
        "      Ex - When adding a integer and a float. then the result will be float.\n",
        "\n",
        "  2. Explicit -\n",
        "\n",
        "      - This is when you manually convert a data type using built-in functions.\n",
        "\n",
        "       Ex - int, float, str, bool\n",
        "\n",
        "  Imlicit and Explicit examples are below -"
      ],
      "metadata": {
        "id": "YasrZoenXKlT"
      }
    },
    {
      "cell_type": "code",
      "source": [
        "# Implicit Examples\n",
        "\n",
        "x = 10\n",
        "y = 20.55\n",
        "x+y   #result will be in float"
      ],
      "metadata": {
        "colab": {
          "base_uri": "https://localhost:8080/"
        },
        "id": "z1S7Oo5tVtHh",
        "outputId": "470a9b9d-18d4-490c-9b2b-bb1b812060e9"
      },
      "execution_count": null,
      "outputs": [
        {
          "output_type": "execute_result",
          "data": {
            "text/plain": [
              "30.55"
            ]
          },
          "metadata": {},
          "execution_count": 2
        }
      ]
    },
    {
      "cell_type": "code",
      "source": [
        " # Explicit Examples\n",
        "\n",
        " a = \"20\"     # strint to int\n",
        " b = int(a)\n",
        " print(type(b))\n",
        " print(b)\n",
        "\n",
        " b = 20      #int to float\n",
        " c = float(b)\n",
        " print(\"\\n\", type(c))\n",
        " print(c)\n",
        "\n",
        " x = 20.55\n",
        " y = str(x)\n",
        " print(\"\\n\", type(y))\n",
        " print(repr(y))"
      ],
      "metadata": {
        "colab": {
          "base_uri": "https://localhost:8080/"
        },
        "id": "CSZKqe1qRqCD",
        "outputId": "fef592ac-e25b-42f9-94b5-a1945163e605"
      },
      "execution_count": null,
      "outputs": [
        {
          "output_type": "stream",
          "name": "stdout",
          "text": [
            "<class 'int'>\n",
            "20\n",
            "\n",
            " <class 'float'>\n",
            "20.0\n",
            "\n",
            " <class 'str'>\n",
            "'20.55'\n"
          ]
        }
      ]
    },
    {
      "cell_type": "markdown",
      "source": [
        "10. What is the difference between implicit and explicit type casting?\n",
        "\n",
        "    1. **Implicit Type Castint - **\n",
        "\n",
        "    - An implicit type conversion is automatically performed by the compiler when differing data types are intermixed in an expression.\n",
        "\n",
        "    - An implicit type conversion is performed without programmer's intervention.\n",
        "\n",
        "     Ex -\n",
        "     \n",
        "     a,b = 5,25.5\n",
        "\n",
        "     c = a+b\n",
        "\n",
        "     print(c)\n",
        "     #it automatically convert the data type into float\n",
        "          \n",
        "    2. **Explicit Type Casting -**\n",
        "\n",
        "    - An explicit type conversion is user-defined conversion that forces an expression to be of specific type.\n",
        "\n",
        "    - An explicit type conversion is specified explicitly by the programmer.\n",
        "\n",
        "     Ex -\n",
        "\n",
        "     a,b = 5, 50.55\n",
        "\n",
        "     c = int(a,b)\n",
        "\n",
        "     print(c)\n",
        "     #it will convert the float data type into integer data type."
      ],
      "metadata": {
        "id": "KalWry7dV5ML"
      }
    },
    {
      "cell_type": "markdown",
      "source": [
        " 11. What is the purpose of conditional statements in Python?\n",
        "\n",
        "     **Ans>>** Conditional statements in Python are used to make decisions in a program. They allows programs to make decisions and execute different blocks of code based on whether certain conditions are true and false.\n",
        "\n",
        "     There are basically 4 types of statements available in conditional statements.\n",
        "\n",
        "     1. if\n",
        "     2. if else\n",
        "     3. elif\n",
        "     4. nested if else"
      ],
      "metadata": {
        "id": "jjjerCraiaAM"
      }
    },
    {
      "cell_type": "markdown",
      "source": [
        "12. How does the elif statement work?\n",
        "    \n",
        "     **Ans>>** The elif short form is else if. This statements used to check multiple condition one after another. it comes after if and before an else.\n",
        "\n",
        "     Key points -\n",
        "\n",
        "     - Python evaluates each elif condition in order.\n",
        "\n",
        "     - If an elif condition is true, its corresponding code block is executed, and the rest of the elif and else blocks are skipped.\n",
        "\n",
        "     - You can have multiple elif statements in a single if structure, enabling you to test numerous conditions.\n",
        "\n",
        "  Examples if below of elif statements-"
      ],
      "metadata": {
        "id": "GmkdACCskO7z"
      }
    },
    {
      "cell_type": "code",
      "source": [
        "# Example of elif statements\n",
        "\n",
        "a = 20\n",
        "b = 30\n",
        "\n",
        "if a>b:\n",
        "  print(\"a is greater than b\")\n",
        "\n",
        "elif a<b:\n",
        "  print(\"a is less than b\")\n",
        "\n",
        "elif a==b:\n",
        "  print(\"a is equal to b\")\n",
        "\n",
        "else:\n",
        "  print(\"The condition not matched\")"
      ],
      "metadata": {
        "colab": {
          "base_uri": "https://localhost:8080/"
        },
        "id": "xoaxB8uolwwT",
        "outputId": "1aaf3c76-24a7-45a6-c2e8-5f1159537358"
      },
      "execution_count": 2,
      "outputs": [
        {
          "output_type": "stream",
          "name": "stdout",
          "text": [
            "a is less than b\n"
          ]
        }
      ]
    },
    {
      "cell_type": "markdown",
      "source": [
        "13. What is the difference between for and while loops?\n",
        "\n",
        "   **Ans>>** 'For' and 'while' loops are two of the most fundamental iterative operations in programming. Both for and while loops are used to repeat a block of code, but they work in different ways and are used in different scenarios.\n",
        "\n",
        "   1. **\"for\" Loop** -  A 'for' loop is a control structure in programming that allows you to execute a block of code repeatedly for a specific number of times. This loop is handy when you know how many times you need to iterate through a code block.\n",
        "\n",
        "   Key points of for loop -\n",
        "\n",
        "   - For loops are designed to iterate through a collection of items, executing a block of code once for each item in that sequence.\n",
        "\n",
        "   - You choose a for loop when you know how many times you want to iterate.\n",
        "\n",
        "   - The primary use case for a for loop is when you need to perform an action on every element within a known sequence.\n",
        "\n",
        "   2. **\"while\" Loop -** A 'while' loop is a crucial control structure in programming. It allows the execution of a block of code repeatedly while a specified condition is true. A 'while' loop is ideal for situations where the number of iterations is not predetermined and depends on some dynamic condition.\n",
        "\n",
        "   Key points of while loop -\n",
        "\n",
        "  - The 'while' loop evaluates the condition before each iteration. This condition is usually a logical statement that returns true or false.\n",
        "\n",
        "  - Typically used when the number of iterations is unknown.\n",
        "\n",
        "  - It will keep doing the action until the while condition is not true."
      ],
      "metadata": {
        "id": "zjlgRlSbnEEy"
      }
    },
    {
      "cell_type": "code",
      "source": [
        "# example of while loop\n",
        "a = 8\n",
        "b = 1\n",
        "while b < a:\n",
        "  print(b)\n",
        "  b = b+1\n",
        "\n",
        "else:\n",
        "  print(\"This will be executed while conction is run without any break\")\n"
      ],
      "metadata": {
        "colab": {
          "base_uri": "https://localhost:8080/"
        },
        "id": "LzKUc1tOq0gK",
        "outputId": "5e9c74f9-0357-4ca3-c65c-c107dde6de80"
      },
      "execution_count": 4,
      "outputs": [
        {
          "output_type": "stream",
          "name": "stdout",
          "text": [
            "1\n",
            "2\n",
            "3\n",
            "4\n",
            "5\n",
            "6\n",
            "7\n",
            "This will be executed while conction is run without any break\n"
          ]
        }
      ]
    },
    {
      "cell_type": "code",
      "source": [
        "# Example of for loop\n",
        "\n",
        "x = [5, 10.5, \"History\", \"Science\"]\n",
        "for i in x:\n",
        "  print(i)\n",
        "else:\n",
        "  print(\"This will be executed when for loop ends without a break statment\")"
      ],
      "metadata": {
        "colab": {
          "base_uri": "https://localhost:8080/"
        },
        "id": "-OJb8ujcrtkr",
        "outputId": "2b7fa651-871d-4827-fa5a-d4bd174899a5"
      },
      "execution_count": 6,
      "outputs": [
        {
          "output_type": "stream",
          "name": "stdout",
          "text": [
            "5\n",
            "10.5\n",
            "History\n",
            "Science\n",
            "This will be executed when for loop ends without a break statment\n",
            "<class 'str'>\n"
          ]
        }
      ]
    },
    {
      "cell_type": "markdown",
      "source": [
        "14. Describe a scenario where a while loop is more suitable than a for loop.\n",
        "\n",
        "  **Ans >>** A scenario where a while loop is more suitable than a for loop is when you need to repeatedly execute a block of code until a specific condition is met, but you don't know in advance how many iterations will be required.\n",
        "\n",
        "  **\"while\" Loop -** This is ideal when you want the loop to continue executing as long as a certain condition is true. The exact number of iterations isn't known beforehand. It checks the condition before each iteration, making it suitable for scenarios where you're waiting for a particular state or condition to be fulfilled.\n",
        "\n",
        "  **\"for\" Loop -** This loop is used when you know ahead of time how many times you want to run the loop. It is great for iterating over a specific range, a fixed number of times, or over a collection of elements.\n",
        "\n",
        "  # **Example Scenario for While Loop:**\n",
        "  Let's say you're reading data from a file, line by line. You don't know how many lines are in the file, so a while loop is better than a for loop.\n",
        "  \n",
        "  - You ask the user to enter a number.\n",
        "\n",
        "  - If the number is not positive (zero or less), the loop runs again.\n",
        "\n",
        "  - This continues until the user finally enters a positive number.\n",
        "\n",
        "  - You don't know how many times it will take, so a while loop is best.\n",
        "\n",
        "  **Why not a \"for\" Loop** -\n",
        "\n",
        "  - You don't know how many chances the user will need.\n",
        "\n",
        "  - A for loop would require a fixed number of tries (e.g., 3 tries only), but here, the loop continues until the condition is met."
      ],
      "metadata": {
        "id": "x2vqYd6Mswho"
      }
    },
    {
      "cell_type": "code",
      "source": [
        "# Code of this scenario\n",
        "\n",
        "num = int(input(\"Enter a positive number: \"))\n",
        "\n",
        "while num <= 0:\n",
        "    print(\"That's not a positive number.\")\n",
        "    number = int(input(\"Try again: \"))\n",
        "\n",
        "print(\"You entered:\", num)\n"
      ],
      "metadata": {
        "colab": {
          "base_uri": "https://localhost:8080/"
        },
        "id": "Zfuw3EjNsnAE",
        "outputId": "116df6b2-2b5a-415f-bc71-fee92aceeb90"
      },
      "execution_count": 9,
      "outputs": [
        {
          "output_type": "stream",
          "name": "stdout",
          "text": [
            "Enter a positive number: 123321\n",
            "You entered: 123321\n"
          ]
        }
      ]
    },
    {
      "cell_type": "markdown",
      "source": [
        "# Practical Questions"
      ],
      "metadata": {
        "id": "W87IXp8QxDXv"
      }
    },
    {
      "cell_type": "code",
      "source": [
        "# 1. Write a Python program to print \"Hello, World!\"\n",
        "\n",
        "print(\"Hello, World!\")"
      ],
      "metadata": {
        "colab": {
          "base_uri": "https://localhost:8080/"
        },
        "id": "A7xTBUDixG3v",
        "outputId": "04d08d63-b014-4f77-a0e6-6bdbc72564d9"
      },
      "execution_count": 10,
      "outputs": [
        {
          "output_type": "stream",
          "name": "stdout",
          "text": [
            "Hello, World!\n"
          ]
        }
      ]
    },
    {
      "cell_type": "code",
      "source": [
        "# 2. Write a Python program that displays your name and age.\n",
        "\n",
        "a = \"Azimuddin\"\n",
        "b = 20\n",
        "print(\"Your name is: \", a + \"\\n Your Age is : \", b)"
      ],
      "metadata": {
        "colab": {
          "base_uri": "https://localhost:8080/"
        },
        "id": "cxzqWx0lxSd3",
        "outputId": "d4ca5f75-0e4b-4185-c906-c61917cbc00b"
      },
      "execution_count": 11,
      "outputs": [
        {
          "output_type": "stream",
          "name": "stdout",
          "text": [
            "Your name is:  Azimuddin\n",
            " Your Age is :  20\n"
          ]
        }
      ]
    },
    {
      "cell_type": "code",
      "source": [
        "# 3. Write code to print all the pre-defined keywords in Python using the keyword library.\n",
        "\n",
        "import keyword\n",
        "print(keyword.kwlist)\n",
        "\n"
      ],
      "metadata": {
        "colab": {
          "base_uri": "https://localhost:8080/"
        },
        "id": "k2TuUhRAx6MI",
        "outputId": "644a567b-c96a-4f61-f887-e347595bfdb6"
      },
      "execution_count": 15,
      "outputs": [
        {
          "output_type": "stream",
          "name": "stdout",
          "text": [
            "['False', 'None', 'True', 'and', 'as', 'assert', 'async', 'await', 'break', 'class', 'continue', 'def', 'del', 'elif', 'else', 'except', 'finally', 'for', 'from', 'global', 'if', 'import', 'in', 'is', 'lambda', 'nonlocal', 'not', 'or', 'pass', 'raise', 'return', 'try', 'while', 'with', 'yield']\n"
          ]
        }
      ]
    },
    {
      "cell_type": "code",
      "source": [
        "# 4.  Write a program that checks if a given word is a Python keyword.\n",
        "\n",
        "import keyword\n",
        "\n",
        "a = input(\"Enter the word:\")\n",
        "if keyword.iskeyword(a):\n",
        "  print(\"This is Python Keyword: \", a)\n",
        "\n",
        "else:\n",
        "  print(\"This is not python keyword: \", a)\n"
      ],
      "metadata": {
        "colab": {
          "base_uri": "https://localhost:8080/"
        },
        "id": "61HygN8wzS82",
        "outputId": "e35754e3-7930-435f-d1d6-b0da0d740cd5"
      },
      "execution_count": 18,
      "outputs": [
        {
          "output_type": "stream",
          "name": "stdout",
          "text": [
            "Enter the word:not\n",
            "This is Python Keyword:  not\n"
          ]
        }
      ]
    },
    {
      "cell_type": "code",
      "source": [
        "# 5. Create a list and tuple in Python, and demonstrate how attempting to change an element works differently for each.\n",
        "\n",
        "a_list = [1, 5.5, \"India\", \"Prime Minister\"]\n",
        "print(\"My List: \\n\", a_list)\n",
        "\n",
        "a_list[2] = \"Pakistan\" #index 2 will be updated from the list\n",
        "print(\"\\n Updated List: \\n\", a_list)\n",
        "\n",
        "# For modify tuples you need to convert it into list\n",
        "a_tuple = (1, 2.55, \"India\")\n",
        "print(\"\\n My Tuple: \\n\", a_tuple)\n",
        "\n",
        "c_list = list(a_tuple)\n",
        "c_list[2] = \"China\" #now this tuples is convert into list\n",
        "print(\"\\n Updated tuple :\\n\", c_list)\n",
        "\n"
      ],
      "metadata": {
        "colab": {
          "base_uri": "https://localhost:8080/"
        },
        "id": "sw0i94Bj2L7G",
        "outputId": "2330d123-9808-4716-f977-90dc628d53e2"
      },
      "execution_count": 24,
      "outputs": [
        {
          "output_type": "stream",
          "name": "stdout",
          "text": [
            "My List: \n",
            " [1, 5.5, 'India', 'Prime Minister']\n",
            "\n",
            " Updated List: \n",
            " [1, 5.5, 'Pakistan', 'Prime Minister']\n",
            "\n",
            " My Tuple: \n",
            " (1, 2.55, 'India')\n",
            "\n",
            " Updated tuple :\n",
            " [1, 2.55, 'China']\n"
          ]
        }
      ]
    },
    {
      "cell_type": "code",
      "source": [
        "# 6. Write a function to demonstrate the behavior of mutable and immutable arguments.\n",
        "\n",
        "def change_values(a, b):\n",
        "    a = a + 1\n",
        "    b.append(4)\n",
        "    print(\"\\nInside function:\")\n",
        "    print(\"a =\", a)\n",
        "    print(\"b =\", b)\n",
        "\n",
        "x = 10  # Immutable\n",
        "y = [1, 2, 3] # Mutable\n",
        "\n",
        "print(\"Before function call:\")\n",
        "print(\"x =\", x)\n",
        "print(\"y =\", y)\n",
        "\n",
        "change_values(x, y)\n",
        "\n",
        "print(\"\\nAfter function call:\")\n",
        "print(\"x =\", x)  # x is same\n",
        "print(\"y =\", y)  # y is changed\n"
      ],
      "metadata": {
        "colab": {
          "base_uri": "https://localhost:8080/"
        },
        "id": "2dj9UTUb46L2",
        "outputId": "9035dfce-495f-4082-9348-582571675209"
      },
      "execution_count": 26,
      "outputs": [
        {
          "output_type": "stream",
          "name": "stdout",
          "text": [
            "Before function call:\n",
            "x = 10\n",
            "y = [1, 2, 3]\n",
            "\n",
            "Inside function:\n",
            "a = 11\n",
            "b = [1, 2, 3, 4]\n",
            "\n",
            "After function call:\n",
            "x = 10\n",
            "y = [1, 2, 3, 4]\n"
          ]
        }
      ]
    },
    {
      "cell_type": "code",
      "source": [
        "# 7. Write a program that performs basic arithmetic operations on two user-input numbers.\n",
        "\n",
        "a = int(input(\"Enter the First Number:\"))\n",
        "b = int(input(\"Enter the second Number:\"))\n",
        "\n",
        "print(f\"The sum of number {a} and {b} is :\", a+b)"
      ],
      "metadata": {
        "colab": {
          "base_uri": "https://localhost:8080/"
        },
        "id": "XpvciU_77QgY",
        "outputId": "7cd4c3e4-1cb6-4dac-f11e-ae85b73ef88f"
      },
      "execution_count": 28,
      "outputs": [
        {
          "output_type": "stream",
          "name": "stdout",
          "text": [
            "Enter the First Number:50\n",
            "Enter the second Number:20\n",
            "The sum of number 50 and 20 is : 70\n"
          ]
        }
      ]
    },
    {
      "cell_type": "code",
      "source": [
        "# 8. Write a program to demonstrate the use of logical operators.\n",
        "\n",
        "a = int(input(\"Enter the first Number:\"))\n",
        "b = int(input(\"Enter the second Number:\"))\n",
        "\n",
        "if ((a>=0) & (b>=0)):\n",
        "  print(\"Both Number are positive\")\n",
        "\n",
        "else:\n",
        "  print(\"Both Numbers are negative-\")"
      ],
      "metadata": {
        "colab": {
          "base_uri": "https://localhost:8080/"
        },
        "id": "yw57Qp4S8QQg",
        "outputId": "2e3130ce-3e18-415b-b8c1-a742189abb59"
      },
      "execution_count": 3,
      "outputs": [
        {
          "output_type": "stream",
          "name": "stdout",
          "text": [
            "Enter the first Number:-1\n",
            "Enter the second Number:-12\n",
            "Both Numbers are negative-\n"
          ]
        }
      ]
    },
    {
      "cell_type": "code",
      "source": [
        "# 9. Write a Python program to convert user input from string to integer, float, and boolean types.\n",
        "\n",
        "a = str(input(\"Enter the number:\"))\n",
        "print(type(a))\n",
        "\n",
        "b = int(a)\n",
        "print(\"Now the number is converted into integer\")\n",
        "print(b)\n",
        "print(type(b))\n",
        "\n",
        "c = float(a)\n",
        "print(\"\\n Now the number is converted into float\")\n",
        "print(c)\n",
        "print(type(c))\n",
        "\n",
        "d = bool(a)\n",
        "print(\"\\n Now the number is converted into bool type\")\n",
        "print(d)\n",
        "print(type(d))\n"
      ],
      "metadata": {
        "colab": {
          "base_uri": "https://localhost:8080/"
        },
        "id": "vKN3Kw8fLt5s",
        "outputId": "d6429dc5-e571-44e9-9d7e-242c10ecf9b3"
      },
      "execution_count": 8,
      "outputs": [
        {
          "output_type": "stream",
          "name": "stdout",
          "text": [
            "Enter the number:12\n",
            "<class 'str'>\n",
            "Now the number is converted into integer\n",
            "12\n",
            "<class 'int'>\n",
            "\n",
            " Now the number is converted into float\n",
            "12.0\n",
            "<class 'float'>\n",
            "\n",
            " Now the number is converted into bool type\n",
            "True\n",
            "<class 'bool'>\n"
          ]
        }
      ]
    },
    {
      "cell_type": "code",
      "source": [
        "# 10. Write code to demonstrate type casting with list elements.\n",
        "\n",
        "a_list = [1, 2, \"India\"]\n",
        "print(a_list)\n",
        "print(type(a_list))\n",
        "\n",
        "\n",
        "b_str = str(a_list)\n",
        "print(\"\\n\", b_str)\n",
        "print(type(b_str))\n",
        "\n",
        "c_tuple = tuple(a_list)\n",
        "print(\"\\n\", c_tuple)\n",
        "print(type(c_tuple))\n",
        "\n",
        "d_set = set(a_list)\n",
        "print(\"\\n\", d_set)\n",
        "print(type(d_set))"
      ],
      "metadata": {
        "colab": {
          "base_uri": "https://localhost:8080/"
        },
        "id": "Yf6n5w7ENfCa",
        "outputId": "6d715704-52cd-4026-c990-5e1d99b00a24"
      },
      "execution_count": 14,
      "outputs": [
        {
          "output_type": "stream",
          "name": "stdout",
          "text": [
            "[1, 2, 'India']\n",
            "<class 'list'>\n",
            "\n",
            " [1, 2, 'India']\n",
            "<class 'str'>\n",
            "\n",
            " (1, 2, 'India')\n",
            "<class 'tuple'>\n",
            "\n",
            " {1, 2, 'India'}\n",
            "<class 'set'>\n"
          ]
        }
      ]
    },
    {
      "cell_type": "code",
      "source": [
        "# 11. Write a program that checks if a number is positive, negative, or zero.\n",
        "a = int(input(\"Enter the Number to check:\"))\n",
        "\n",
        "if a>0:\n",
        "  print(\"The Number is positive\", a)\n",
        "\n",
        "elif a==0:\n",
        "  print(\"The Number is equal to zero\", a)\n",
        "\n",
        "else:\n",
        "  print(\"The Number is negative\", a)"
      ],
      "metadata": {
        "colab": {
          "base_uri": "https://localhost:8080/"
        },
        "id": "scJ4yjthPmi_",
        "outputId": "5faf8ef7-63d4-4d89-db87-f1990477e51a"
      },
      "execution_count": 18,
      "outputs": [
        {
          "output_type": "stream",
          "name": "stdout",
          "text": [
            "Enter the Number to check:0\n",
            "The Number is equal to zero 0\n"
          ]
        }
      ]
    },
    {
      "cell_type": "code",
      "source": [
        "# 12. Write a for loop to print numbers from 1 to 10.\n",
        "\n",
        "for i in range(1,11):\n",
        "  print(i)"
      ],
      "metadata": {
        "colab": {
          "base_uri": "https://localhost:8080/"
        },
        "id": "y4agPapZQeWq",
        "outputId": "7d9c9fbb-22b3-4e27-eb5d-0c8fd74a7aec"
      },
      "execution_count": 25,
      "outputs": [
        {
          "output_type": "stream",
          "name": "stdout",
          "text": [
            "1\n",
            "2\n",
            "3\n",
            "4\n",
            "5\n",
            "6\n",
            "7\n",
            "8\n",
            "9\n",
            "10\n"
          ]
        }
      ]
    },
    {
      "cell_type": "code",
      "source": [
        "# 13. Write a Python program to find the sum of all even numbers between 1 and 50.\n",
        "\n",
        "a = 0\n",
        "for num in range(1,51):\n",
        "  if num % 2 == 0:\n",
        "    a = num+a\n",
        "\n",
        "print(\"The sum of all even number is:\", a)\n"
      ],
      "metadata": {
        "colab": {
          "base_uri": "https://localhost:8080/"
        },
        "id": "tAiwAB2eRere",
        "outputId": "7dd54ba2-c092-493b-c184-1b7680ced6b8"
      },
      "execution_count": 5,
      "outputs": [
        {
          "output_type": "stream",
          "name": "stdout",
          "text": [
            "The sum of all even number is: 650\n"
          ]
        }
      ]
    },
    {
      "cell_type": "code",
      "source": [
        "# 14. Write a program to reverse a string using a while loop.\n",
        "\n",
        "a = \"India\"\n",
        "rev_text = \"\"\n",
        "index = len(a)-1\n",
        "\n",
        "while index >=0:\n",
        "  rev_text += a[index]\n",
        "  index = index-1\n",
        "\n",
        "print(\"My String:\", a)\n",
        "print(\"Reversed String:\", rev_text)"
      ],
      "metadata": {
        "colab": {
          "base_uri": "https://localhost:8080/"
        },
        "id": "0DpOFmwBGI--",
        "outputId": "e2372b83-8277-4847-8dee-b19766b5095f"
      },
      "execution_count": 6,
      "outputs": [
        {
          "output_type": "stream",
          "name": "stdout",
          "text": [
            "My String: India\n",
            "Reversed String: aidnI\n"
          ]
        }
      ]
    },
    {
      "cell_type": "code",
      "source": [
        "# 15. Write a Python program to calculate the factorial of a number provided by the user using a while loop.\n",
        "\n",
        "a = int(input(\"Enter the number for factorial:\"))\n",
        "fact = 1\n",
        "i = 1\n",
        "\n",
        "while i <= a:\n",
        "  fact = fact*i\n",
        "  i = i+1\n",
        "\n",
        "print(f\"Factorial of number {a} is :\", fact)"
      ],
      "metadata": {
        "colab": {
          "base_uri": "https://localhost:8080/"
        },
        "id": "h5xA7sqRHSmX",
        "outputId": "30abf276-2a39-4aff-8f25-f16033e28815"
      },
      "execution_count": 7,
      "outputs": [
        {
          "output_type": "stream",
          "name": "stdout",
          "text": [
            "Enter the number for factorial:5\n",
            "Factorial of number 5 is : 120\n"
          ]
        }
      ]
    }
  ]
}